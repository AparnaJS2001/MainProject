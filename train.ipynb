{
 "cells": [
  {
   "cell_type": "code",
   "execution_count": 10,
   "metadata": {},
   "outputs": [
    {
     "name": "stdout",
     "output_type": "stream",
     "text": [
      "WARNING:tensorflow:From c:\\Users\\ksree\\AppData\\Local\\Programs\\Python\\Python310\\lib\\site-packages\\keras\\src\\losses.py:2976: The name tf.losses.sparse_softmax_cross_entropy is deprecated. Please use tf.compat.v1.losses.sparse_softmax_cross_entropy instead.\n",
      "\n"
     ]
    }
   ],
   "source": [
    "import os\n",
    "import shutil\n",
    "import cv2\n",
    "import math\n",
    "import random\n",
    "import numpy as np\n",
    "import datetime as dt\n",
    "import tensorflow \n",
    "import keras\n",
    "from collections import deque\n",
    "import matplotlib.pyplot as plt\n",
    "import seaborn as sns\n",
    "\n",
    "\n",
    "%matplotlib inline\n",
    " \n",
    "from sklearn.model_selection import train_test_split\n",
    " \n",
    "from keras.layers import *\n",
    "from keras.models import Sequential\n",
    "from tensorflow.keras.utils import to_categorical\n",
    "from keras.callbacks import EarlyStopping\n",
    "from tensorflow.keras.utils import plot_model"
   ]
  },
  {
   "cell_type": "code",
   "execution_count": 11,
   "metadata": {},
   "outputs": [],
   "source": [
    "# Classes Directories\n",
    "NonViolnceVideos_Dir = \"dataset/NonViolence\"\n",
    "ViolnceVideos_Dir = \"dataset\\Violence\"\n",
    "\n",
    "# Retrieve the list of all the video files present in the Class Directory.\n",
    "NonViolence_files_names_list = os.listdir(NonViolnceVideos_Dir)\n",
    "Violence_files_names_list = os.listdir(ViolnceVideos_Dir)"
   ]
  },
  {
   "cell_type": "code",
   "execution_count": 12,
   "metadata": {},
   "outputs": [],
   "source": [
    "# Specify the height and width to which each video frame will be resized in our dataset.\n",
    "IMAGE_HEIGHT , IMAGE_WIDTH = 64, 64\n",
    " \n",
    "# Specify the number of frames of a video that will be fed to the model as one sequence.\n",
    "SEQUENCE_LENGTH = 16\n",
    " \n",
    "\n",
    "DATASET_DIR = \"dataset\"\n",
    " \n",
    "CLASSES_LIST = [\"NonViolence\",\"Violence\"]"
   ]
  },
  {
   "cell_type": "code",
   "execution_count": 13,
   "metadata": {},
   "outputs": [],
   "source": [
    "def frames_extraction(video_path):\n",
    " \n",
    "    frames_list = []\n",
    "    \n",
    "    # Read the Video File\n",
    "    video_reader = cv2.VideoCapture(video_path)\n",
    " \n",
    "    # Get the total number of frames in the video.\n",
    "    video_frames_count = int(video_reader.get(cv2.CAP_PROP_FRAME_COUNT))\n",
    " \n",
    "    # Calculate the the interval after which frames will be added to the list.\n",
    "    skip_frames_window = max(int(video_frames_count/SEQUENCE_LENGTH), 1)\n",
    " \n",
    "    # Iterate through the Video Frames.\n",
    "    for frame_counter in range(SEQUENCE_LENGTH):\n",
    " \n",
    "        # Set the current frame position of the video.\n",
    "        video_reader.set(cv2.CAP_PROP_POS_FRAMES, frame_counter * skip_frames_window)\n",
    " \n",
    "        # Reading the frame from the video. \n",
    "        success, frame = video_reader.read() \n",
    " \n",
    "        if not success:\n",
    "            break\n",
    " \n",
    "        # Resize the Frame to fixed height and width.\n",
    "        resized_frame = cv2.resize(frame, (IMAGE_HEIGHT, IMAGE_WIDTH))\n",
    "        \n",
    "        # Normalize the resized frame\n",
    "        normalized_frame = resized_frame / 255\n",
    "        \n",
    "        # Append the normalized frame into the frames list\n",
    "        frames_list.append(normalized_frame)\n",
    "    \n",
    " \n",
    "    video_reader.release()\n",
    " \n",
    "    return frames_list"
   ]
  },
  {
   "cell_type": "code",
   "execution_count": 14,
   "metadata": {},
   "outputs": [],
   "source": [
    "def create_dataset():\n",
    " \n",
    "    features = []\n",
    "    labels = []\n",
    "    video_files_paths = []\n",
    "    \n",
    "    # Iterating through all the classes.\n",
    "    for class_index, class_name in enumerate(CLASSES_LIST):\n",
    "        \n",
    "        print(f'Extracting Data of Class: {class_name}')\n",
    "        \n",
    "        # Get the list of video files present in the specific class name directory.\n",
    "        files_list = os.listdir(os.path.join(DATASET_DIR, class_name))\n",
    "        \n",
    "        # Iterate through all the files present in the files list.\n",
    "        for file_name in files_list:\n",
    "            \n",
    "            # Get the complete video path.\n",
    "            video_file_path = os.path.join(DATASET_DIR, class_name, file_name)\n",
    " \n",
    "            # Extract the frames of the video file.\n",
    "            frames = frames_extraction(video_file_path)\n",
    " \n",
    "            # Check if the extracted frames are equal to the SEQUENCE_LENGTH specified.\n",
    "            # So ignore the vides having frames less than the SEQUENCE_LENGTH.\n",
    "            if len(frames) == SEQUENCE_LENGTH:\n",
    " \n",
    "                # Append the data to their repective lists.\n",
    "                features.append(frames)\n",
    "                labels.append(class_index)\n",
    "                video_files_paths.append(video_file_path)\n",
    " \n",
    "    features = np.asarray(features)\n",
    "    labels = np.array(labels)  \n",
    "\n",
    "    return features, labels, video_files_paths"
   ]
  },
  {
   "cell_type": "code",
   "execution_count": 21,
   "metadata": {},
   "outputs": [
    {
     "name": "stdout",
     "output_type": "stream",
     "text": [
      "Extracting Data of Class: NonViolence\n"
     ]
    },
    {
     "ename": "KeyboardInterrupt",
     "evalue": "",
     "output_type": "error",
     "traceback": [
      "\u001b[1;31m---------------------------------------------------------------------------\u001b[0m",
      "\u001b[1;31mKeyboardInterrupt\u001b[0m                         Traceback (most recent call last)",
      "Cell \u001b[1;32mIn[21], line 2\u001b[0m\n\u001b[0;32m      1\u001b[0m \u001b[38;5;66;03m# Create the dataset.\u001b[39;00m\n\u001b[1;32m----> 2\u001b[0m features, labels, video_files_paths \u001b[38;5;241m=\u001b[39m \u001b[43mcreate_dataset\u001b[49m\u001b[43m(\u001b[49m\u001b[43m)\u001b[49m\n",
      "Cell \u001b[1;32mIn[14], line 22\u001b[0m, in \u001b[0;36mcreate_dataset\u001b[1;34m()\u001b[0m\n\u001b[0;32m     19\u001b[0m video_file_path \u001b[38;5;241m=\u001b[39m os\u001b[38;5;241m.\u001b[39mpath\u001b[38;5;241m.\u001b[39mjoin(DATASET_DIR, class_name, file_name)\n\u001b[0;32m     21\u001b[0m \u001b[38;5;66;03m# Extract the frames of the video file.\u001b[39;00m\n\u001b[1;32m---> 22\u001b[0m frames \u001b[38;5;241m=\u001b[39m \u001b[43mframes_extraction\u001b[49m\u001b[43m(\u001b[49m\u001b[43mvideo_file_path\u001b[49m\u001b[43m)\u001b[49m\n\u001b[0;32m     24\u001b[0m \u001b[38;5;66;03m# Check if the extracted frames are equal to the SEQUENCE_LENGTH specified.\u001b[39;00m\n\u001b[0;32m     25\u001b[0m \u001b[38;5;66;03m# So ignore the vides having frames less than the SEQUENCE_LENGTH.\u001b[39;00m\n\u001b[0;32m     26\u001b[0m \u001b[38;5;28;01mif\u001b[39;00m \u001b[38;5;28mlen\u001b[39m(frames) \u001b[38;5;241m==\u001b[39m SEQUENCE_LENGTH:\n\u001b[0;32m     27\u001b[0m \n\u001b[0;32m     28\u001b[0m     \u001b[38;5;66;03m# Append the data to their repective lists.\u001b[39;00m\n",
      "Cell \u001b[1;32mIn[13], line 18\u001b[0m, in \u001b[0;36mframes_extraction\u001b[1;34m(video_path)\u001b[0m\n\u001b[0;32m     14\u001b[0m \u001b[38;5;66;03m# Iterate through the Video Frames.\u001b[39;00m\n\u001b[0;32m     15\u001b[0m \u001b[38;5;28;01mfor\u001b[39;00m frame_counter \u001b[38;5;129;01min\u001b[39;00m \u001b[38;5;28mrange\u001b[39m(SEQUENCE_LENGTH):\n\u001b[0;32m     16\u001b[0m \n\u001b[0;32m     17\u001b[0m     \u001b[38;5;66;03m# Set the current frame position of the video.\u001b[39;00m\n\u001b[1;32m---> 18\u001b[0m     \u001b[43mvideo_reader\u001b[49m\u001b[38;5;241;43m.\u001b[39;49m\u001b[43mset\u001b[49m\u001b[43m(\u001b[49m\u001b[43mcv2\u001b[49m\u001b[38;5;241;43m.\u001b[39;49m\u001b[43mCAP_PROP_POS_FRAMES\u001b[49m\u001b[43m,\u001b[49m\u001b[43m \u001b[49m\u001b[43mframe_counter\u001b[49m\u001b[43m \u001b[49m\u001b[38;5;241;43m*\u001b[39;49m\u001b[43m \u001b[49m\u001b[43mskip_frames_window\u001b[49m\u001b[43m)\u001b[49m\n\u001b[0;32m     20\u001b[0m     \u001b[38;5;66;03m# Reading the frame from the video. \u001b[39;00m\n\u001b[0;32m     21\u001b[0m     success, frame \u001b[38;5;241m=\u001b[39m video_reader\u001b[38;5;241m.\u001b[39mread() \n",
      "\u001b[1;31mKeyboardInterrupt\u001b[0m: "
     ]
    }
   ],
   "source": [
    "# Create the dataset.\n",
    "features, labels, video_files_paths = create_dataset()"
   ]
  },
  {
   "cell_type": "code",
   "execution_count": null,
   "metadata": {},
   "outputs": [],
   "source": [
    "# Saving the extracted data\n",
    "np.save(\"features.npy\",features)\n",
    "np.save(\"labels.npy\",labels)\n",
    "np.save(\"video_files_paths.npy\",video_files_paths)"
   ]
  },
  {
   "cell_type": "code",
   "execution_count": null,
   "metadata": {},
   "outputs": [],
   "source": [
    "features, labels, video_files_paths = np.load(\"features.npy\") , np.load(\"labels.npy\") ,  np.load(\"video_files_paths.npy\")"
   ]
  },
  {
   "cell_type": "code",
   "execution_count": null,
   "metadata": {},
   "outputs": [],
   "source": [
    "# convert labels into one-hot-encoded vectors\n",
    "one_hot_encoded_labels = to_categorical(labels)"
   ]
  },
  {
   "cell_type": "code",
   "execution_count": null,
   "metadata": {},
   "outputs": [],
   "source": [
    "# Split the Data into Train ( 90% ) and Test Set ( 10% ).\n",
    "features_train, features_test, labels_train, labels_test = train_test_split(features, one_hot_encoded_labels, test_size = 0.1,  shuffle = True, random_state = 42)"
   ]
  },
  {
   "cell_type": "code",
   "execution_count": null,
   "metadata": {},
   "outputs": [
    {
     "name": "stdout",
     "output_type": "stream",
     "text": [
      "(2699, 16, 64, 64, 3) (2699, 2)\n",
      "(300, 16, 64, 64, 3) (300, 2)\n"
     ]
    }
   ],
   "source": [
    "print(features_train.shape,labels_train.shape )\n",
    "print(features_test.shape, labels_test.shape)"
   ]
  },
  {
   "cell_type": "code",
   "execution_count": null,
   "metadata": {},
   "outputs": [
    {
     "name": "stdout",
     "output_type": "stream",
     "text": [
      "WARNING:tensorflow:`input_shape` is undefined or non-square, or `rows` is not in [96, 128, 160, 192, 224]. Weights for input shape (224, 224) will be loaded as the default.\n"
     ]
    }
   ],
   "source": [
    "from keras.applications.mobilenet_v2 import MobileNetV2\n",
    "\n",
    "mobilenet = MobileNetV2( include_top=False , weights=\"imagenet\")\n",
    "\n",
    "#Fine-Tuning to make the last 40 layer trainable\n",
    "mobilenet.trainable=True\n",
    "\n",
    "for layer in mobilenet.layers[:-40]:\n",
    "  layer.trainable=False\n",
    "\n",
    "#mobilenet.summary()"
   ]
  },
  {
   "cell_type": "code",
   "execution_count": null,
   "metadata": {},
   "outputs": [],
   "source": [
    "def create_model():\n",
    " \n",
    "    model = Sequential()\n",
    "\n",
    "    ########################################################################################################################\n",
    "    \n",
    "    #Specifying Input to match features shape\n",
    "    model.add(Input(shape = (SEQUENCE_LENGTH, IMAGE_HEIGHT, IMAGE_WIDTH, 3)))\n",
    "    \n",
    "    # Passing mobilenet in the TimeDistributed layer to handle the sequence\n",
    "    model.add(TimeDistributed(mobilenet))\n",
    "    \n",
    "    model.add(Dropout(0.25))\n",
    "                                    \n",
    "    model.add(TimeDistributed(Flatten()))\n",
    "\n",
    "    \n",
    "    lstm_fw = LSTM(units=32)\n",
    "    lstm_bw = LSTM(units=32, go_backwards = True)  \n",
    "\n",
    "    model.add(Bidirectional(lstm_fw, backward_layer = lstm_bw))\n",
    "    \n",
    "    model.add(Dropout(0.25))\n",
    "\n",
    "    model.add(Dense(256,activation='relu'))\n",
    "    model.add(Dropout(0.25))\n",
    "\n",
    "    model.add(Dense(128,activation='relu'))\n",
    "    model.add(Dropout(0.25))\n",
    "\n",
    "    model.add(Dense(64,activation='relu'))\n",
    "    model.add(Dropout(0.25))\n",
    "\n",
    "    model.add(Dense(32,activation='relu'))\n",
    "    model.add(Dropout(0.25))\n",
    "    \n",
    "    \n",
    "    model.add(Dense(len(CLASSES_LIST), activation = 'softmax'))\n",
    " \n",
    "    ########################################################################################################################\n",
    " \n",
    "    model.summary()\n",
    "    \n",
    "    return model"
   ]
  },
  {
   "cell_type": "code",
   "execution_count": null,
   "metadata": {},
   "outputs": [
    {
     "name": "stdout",
     "output_type": "stream",
     "text": [
      "Model: \"sequential\"\n",
      "_________________________________________________________________\n",
      " Layer (type)                Output Shape              Param #   \n",
      "=================================================================\n",
      " time_distributed (TimeDist  (None, 16, 2, 2, 1280)    2257984   \n",
      " ributed)                                                        \n",
      "                                                                 \n",
      " dropout (Dropout)           (None, 16, 2, 2, 1280)    0         \n",
      "                                                                 \n",
      " time_distributed_1 (TimeDi  (None, 16, 5120)          0         \n",
      " stributed)                                                      \n",
      "                                                                 \n",
      " bidirectional (Bidirection  (None, 64)                1319168   \n",
      " al)                                                             \n",
      "                                                                 \n",
      " dropout_1 (Dropout)         (None, 64)                0         \n",
      "                                                                 \n",
      " dense (Dense)               (None, 256)               16640     \n",
      "                                                                 \n",
      " dropout_2 (Dropout)         (None, 256)               0         \n",
      "                                                                 \n",
      " dense_1 (Dense)             (None, 128)               32896     \n",
      "                                                                 \n",
      " dropout_3 (Dropout)         (None, 128)               0         \n",
      "                                                                 \n",
      " dense_2 (Dense)             (None, 64)                8256      \n",
      "                                                                 \n",
      " dropout_4 (Dropout)         (None, 64)                0         \n",
      "                                                                 \n",
      " dense_3 (Dense)             (None, 32)                2080      \n",
      "                                                                 \n",
      " dropout_5 (Dropout)         (None, 32)                0         \n",
      "                                                                 \n",
      " dense_4 (Dense)             (None, 2)                 66        \n",
      "                                                                 \n",
      "=================================================================\n",
      "Total params: 3637090 (13.87 MB)\n",
      "Trainable params: 3060642 (11.68 MB)\n",
      "Non-trainable params: 576448 (2.20 MB)\n",
      "_________________________________________________________________\n",
      "You must install pydot (`pip install pydot`) and install graphviz (see instructions at https://graphviz.gitlab.io/download/) for plot_model to work.\n"
     ]
    }
   ],
   "source": [
    "# Constructing the Model\n",
    "MoBiLSTM_model1 = create_model()\n",
    "\n",
    "# Plot the structure of the contructed LRCN model.\n",
    "plot_model(MoBiLSTM_model1, to_file = 'MobBiLSTM_model_structure_plot.png', show_shapes = True, show_layer_names = True)"
   ]
  },
  {
   "cell_type": "code",
   "execution_count": null,
   "metadata": {},
   "outputs": [
    {
     "name": "stdout",
     "output_type": "stream",
     "text": [
      "WARNING:tensorflow:From c:\\Users\\ksree\\AppData\\Local\\Programs\\Python\\Python310\\lib\\site-packages\\keras\\src\\optimizers\\__init__.py:309: The name tf.train.Optimizer is deprecated. Please use tf.compat.v1.train.Optimizer instead.\n",
      "\n",
      "Epoch 1/30\n",
      "WARNING:tensorflow:From c:\\Users\\ksree\\AppData\\Local\\Programs\\Python\\Python310\\lib\\site-packages\\keras\\src\\utils\\tf_utils.py:492: The name tf.ragged.RaggedTensorValue is deprecated. Please use tf.compat.v1.ragged.RaggedTensorValue instead.\n",
      "\n",
      "WARNING:tensorflow:From c:\\Users\\ksree\\AppData\\Local\\Programs\\Python\\Python310\\lib\\site-packages\\keras\\src\\engine\\base_layer_utils.py:384: The name tf.executing_eagerly_outside_functions is deprecated. Please use tf.compat.v1.executing_eagerly_outside_functions instead.\n",
      "\n",
      "270/270 [==============================] - 196s 687ms/step - loss: 0.6962 - accuracy: 0.5021 - val_loss: 0.6821 - val_accuracy: 0.6204 - lr: 0.0100\n",
      "Epoch 2/30\n",
      "270/270 [==============================] - 151s 559ms/step - loss: 0.6748 - accuracy: 0.5818 - val_loss: 0.6341 - val_accuracy: 0.7259 - lr: 0.0100\n",
      "Epoch 3/30\n",
      "270/270 [==============================] - 146s 539ms/step - loss: 0.6077 - accuracy: 0.6971 - val_loss: 0.5531 - val_accuracy: 0.7333 - lr: 0.0100\n",
      "Epoch 4/30\n",
      "270/270 [==============================] - 145s 537ms/step - loss: 0.5124 - accuracy: 0.7758 - val_loss: 0.7919 - val_accuracy: 0.6796 - lr: 0.0100\n",
      "Epoch 5/30\n",
      "270/270 [==============================] - 143s 530ms/step - loss: 0.4282 - accuracy: 0.8110 - val_loss: 0.4541 - val_accuracy: 0.7815 - lr: 0.0100\n",
      "Epoch 6/30\n",
      "270/270 [==============================] - 145s 536ms/step - loss: 0.3582 - accuracy: 0.8527 - val_loss: 0.7426 - val_accuracy: 0.6926 - lr: 0.0100\n",
      "Epoch 7/30\n",
      "270/270 [==============================] - 145s 537ms/step - loss: 0.3078 - accuracy: 0.8800 - val_loss: 0.9097 - val_accuracy: 0.6685 - lr: 0.0100\n",
      "Epoch 8/30\n",
      "270/270 [==============================] - 146s 540ms/step - loss: 0.2710 - accuracy: 0.8949 - val_loss: 0.2953 - val_accuracy: 0.8833 - lr: 0.0100\n",
      "Epoch 9/30\n",
      "270/270 [==============================] - 145s 535ms/step - loss: 0.2368 - accuracy: 0.9129 - val_loss: 0.4618 - val_accuracy: 0.8222 - lr: 0.0100\n",
      "Epoch 10/30\n",
      "270/270 [==============================] - 145s 536ms/step - loss: 0.2337 - accuracy: 0.9157 - val_loss: 0.3162 - val_accuracy: 0.8778 - lr: 0.0100\n",
      "Epoch 11/30\n",
      "270/270 [==============================] - 137s 506ms/step - loss: 0.1910 - accuracy: 0.9310 - val_loss: 0.3367 - val_accuracy: 0.8870 - lr: 0.0100\n",
      "Epoch 12/30\n",
      "270/270 [==============================] - 135s 499ms/step - loss: 0.1479 - accuracy: 0.9472 - val_loss: 0.3516 - val_accuracy: 0.8833 - lr: 0.0100\n",
      "Epoch 13/30\n",
      "270/270 [==============================] - ETA: 0s - loss: 0.1632 - accuracy: 0.9472\n",
      "Epoch 13: ReduceLROnPlateau reducing learning rate to 0.005999999865889549.\n",
      "270/270 [==============================] - 134s 498ms/step - loss: 0.1632 - accuracy: 0.9472 - val_loss: 0.5048 - val_accuracy: 0.8296 - lr: 0.0100\n",
      "Epoch 14/30\n",
      "270/270 [==============================] - 753s 3s/step - loss: 0.1114 - accuracy: 0.9606 - val_loss: 0.2707 - val_accuracy: 0.9093 - lr: 0.0060\n",
      "Epoch 15/30\n",
      "270/270 [==============================] - 136s 503ms/step - loss: 0.1136 - accuracy: 0.9606 - val_loss: 0.2851 - val_accuracy: 0.9056 - lr: 0.0060\n",
      "Epoch 16/30\n",
      "270/270 [==============================] - 136s 503ms/step - loss: 0.0993 - accuracy: 0.9657 - val_loss: 0.3975 - val_accuracy: 0.8852 - lr: 0.0060\n",
      "Epoch 17/30\n",
      "270/270 [==============================] - 142s 527ms/step - loss: 0.0880 - accuracy: 0.9731 - val_loss: 0.4031 - val_accuracy: 0.8759 - lr: 0.0060\n",
      "Epoch 18/30\n",
      "270/270 [==============================] - 138s 511ms/step - loss: 0.0772 - accuracy: 0.9759 - val_loss: 0.3304 - val_accuracy: 0.8963 - lr: 0.0060\n",
      "Epoch 19/30\n",
      "270/270 [==============================] - ETA: 0s - loss: 0.0563 - accuracy: 0.9824\n",
      "Epoch 19: ReduceLROnPlateau reducing learning rate to 0.003600000031292438.\n",
      "270/270 [==============================] - 190s 703ms/step - loss: 0.0563 - accuracy: 0.9824 - val_loss: 0.4406 - val_accuracy: 0.8963 - lr: 0.0060\n",
      "Epoch 20/30\n",
      "270/270 [==============================] - 137s 507ms/step - loss: 0.0583 - accuracy: 0.9810 - val_loss: 0.3623 - val_accuracy: 0.9074 - lr: 0.0036\n",
      "Epoch 21/30\n",
      "270/270 [==============================] - 137s 508ms/step - loss: 0.0559 - accuracy: 0.9838 - val_loss: 0.4286 - val_accuracy: 0.8889 - lr: 0.0036\n",
      "Epoch 22/30\n",
      "270/270 [==============================] - 138s 512ms/step - loss: 0.0564 - accuracy: 0.9824 - val_loss: 0.4232 - val_accuracy: 0.8815 - lr: 0.0036\n",
      "Epoch 23/30\n",
      "270/270 [==============================] - 138s 512ms/step - loss: 0.0458 - accuracy: 0.9856 - val_loss: 0.4035 - val_accuracy: 0.9000 - lr: 0.0036\n",
      "Epoch 24/30\n",
      "270/270 [==============================] - ETA: 0s - loss: 0.0407 - accuracy: 0.9856\n",
      "Epoch 24: ReduceLROnPlateau reducing learning rate to 0.0021599999628961085.\n",
      "270/270 [==============================] - 136s 505ms/step - loss: 0.0407 - accuracy: 0.9856 - val_loss: 0.3608 - val_accuracy: 0.8981 - lr: 0.0036\n"
     ]
    }
   ],
   "source": [
    "# Create Early Stopping Callback to monitor the accuracy\n",
    "early_stopping_callback = EarlyStopping(monitor = 'val_accuracy', patience = 10, restore_best_weights = True)\n",
    "\n",
    "# Create ReduceLROnPlateau Callback to reduce overfitting by decreasing learning\n",
    "reduce_lr = tf.keras.callbacks.ReduceLROnPlateau(monitor='val_loss',factor=0.6,patience=5,min_lr=0.00005, verbose=1)\n",
    " \n",
    "# Compiling the model \n",
    "MoBiLSTM_model1.compile(loss = 'categorical_crossentropy', optimizer = 'sgd', metrics = [\"accuracy\"])\n",
    " \n",
    "# Fitting the model \n",
    "MobBiLSTM_model_history = MoBiLSTM_model1.fit(x = features_train, y = labels_train, epochs =30, batch_size = 8 ,shuffle = True, validation_split = 0.2, callbacks = [early_stopping_callback,reduce_lr])"
   ]
  },
  {
   "cell_type": "code",
   "execution_count": null,
   "metadata": {},
   "outputs": [
    {
     "name": "stdout",
     "output_type": "stream",
     "text": [
      "10/10 [==============================] - 8s 717ms/step - loss: 0.4034 - accuracy: 0.8900\n"
     ]
    }
   ],
   "source": [
    "model_evaluation_history = MoBiLSTM_model1.evaluate(features_test, labels_test)"
   ]
  },
  {
   "cell_type": "code",
   "execution_count": null,
   "metadata": {},
   "outputs": [],
   "source": [
    "def plot_metric(model_training_history, metric_name_1, metric_name_2, plot_name):\n",
    "    \n",
    "    metric_value_1 = model_training_history.history[metric_name_1]\n",
    "    metric_value_2 = model_training_history.history[metric_name_2]\n",
    "    \n",
    "    # Get the Epochs Count\n",
    "    epochs = range(len(metric_value_1))\n",
    " \n",
    "    plt.plot(epochs, metric_value_1, 'blue', label = metric_name_1)\n",
    "    plt.plot(epochs, metric_value_2, 'orange', label = metric_name_2)\n",
    " \n",
    "    plt.title(str(plot_name))\n",
    " \n",
    "    plt.legend()"
   ]
  },
  {
   "cell_type": "code",
   "execution_count": null,
   "metadata": {},
   "outputs": [
    {
     "ename": "NameError",
     "evalue": "name 'plot_metric' is not defined",
     "output_type": "error",
     "traceback": [
      "\u001b[1;31m---------------------------------------------------------------------------\u001b[0m",
      "\u001b[1;31mNameError\u001b[0m                                 Traceback (most recent call last)",
      "Cell \u001b[1;32mIn[9], line 1\u001b[0m\n\u001b[1;32m----> 1\u001b[0m \u001b[43mplot_metric\u001b[49m(MobBiLSTM_model_history, \u001b[38;5;124m'\u001b[39m\u001b[38;5;124mloss\u001b[39m\u001b[38;5;124m'\u001b[39m, \u001b[38;5;124m'\u001b[39m\u001b[38;5;124mval_loss\u001b[39m\u001b[38;5;124m'\u001b[39m, \u001b[38;5;124m'\u001b[39m\u001b[38;5;124mTotal Loss vs Total Validation Loss\u001b[39m\u001b[38;5;124m'\u001b[39m)\n",
      "\u001b[1;31mNameError\u001b[0m: name 'plot_metric' is not defined"
     ]
    }
   ],
   "source": [
    "plot_metric(MobBiLSTM_model1_history, 'loss', 'val_loss', 'Total Loss vs Total Validation Loss')"
   ]
  },
  {
   "cell_type": "code",
   "execution_count": null,
   "metadata": {},
   "outputs": [
    {
     "data": {
      "image/png": "[encoded data removed]",
      "text/plain": [
       "<Figure size 640x480 with 1 Axes>"
      ]
     },
     "metadata": {},
     "output_type": "display_data"
    }
   ],
   "source": [
    "plot_metric(MobBiLSTM_model1_history, 'accuracy', 'val_accuracy', 'Total Loss vs Total Validation Loss')"
   ]
  },
  {
   "cell_type": "code",
   "execution_count": null,
   "metadata": {},
   "outputs": [
    {
     "name": "stdout",
     "output_type": "stream",
     "text": [
      "10/10 [==============================] - 9s 621ms/step\n"
     ]
    }
   ],
   "source": [
    "labels_predict = MoBiLSTM_model.predict(features_test)"
   ]
  },
  {
   "cell_type": "code",
   "execution_count": null,
   "metadata": {},
   "outputs": [],
   "source": [
    "# Decoding the data to use in Metrics\n",
    "labels_predict = np.argmax(labels_predict , axis=1)\n",
    "labels_test_normal = np.argmax(labels_test , axis=1)"
   ]
  },
  {
   "cell_type": "code",
   "execution_count": null,
   "metadata": {},
   "outputs": [
    {
     "name": "stdout",
     "output_type": "stream",
     "text": [
      "Accuracy Score is :  0.89\n"
     ]
    }
   ],
   "source": [
    "from sklearn.metrics import accuracy_score\n",
    "AccScore = accuracy_score(labels_predict, labels_test_normal)\n",
    "print('Accuracy Score is : ', AccScore)"
   ]
  },
  {
   "cell_type": "code",
   "execution_count": null,
   "metadata": {},
   "outputs": [
    {
     "data": {
      "image/png": "[encoded data removed]",
      "text/plain": [
       "<Figure size 640x480 with 2 Axes>"
      ]
     },
     "metadata": {},
     "output_type": "display_data"
    }
   ],
   "source": [
    "import seaborn as sns \n",
    "from sklearn.metrics import confusion_matrix\n",
    "\n",
    "ax= plt.subplot()\n",
    "cm=confusion_matrix(labels_test_normal, labels_predict)\n",
    "sns.heatmap(cm, annot=True, fmt='g', ax=ax);  \n",
    "\n",
    "ax.set_xlabel('Predicted labels');ax.set_ylabel('True labels'); \n",
    "ax.set_title('Confusion Matrix'); \n",
    "ax.xaxis.set_ticklabels(['True', 'False']); ax.yaxis.set_ticklabels(['NonViolence', 'Violence']);"
   ]
  },
  {
   "cell_type": "code",
   "execution_count": null,
   "metadata": {},
   "outputs": [],
   "source": [
    "def predict_frames(video_file_path, output_file_path, SEQUENCE_LENGTH):\n",
    "    \n",
    "    # Read from the video file.\n",
    "    video_reader = cv2.VideoCapture(video_file_path)\n",
    " \n",
    "    # Get the width and height of the video.\n",
    "    original_video_width = int(video_reader.get(cv2.CAP_PROP_FRAME_WIDTH))\n",
    "    original_video_height = int(video_reader.get(cv2.CAP_PROP_FRAME_HEIGHT))\n",
    " \n",
    "    # VideoWriter to store the output video in the disk.\n",
    "    video_writer = cv2.VideoWriter(output_file_path, cv2.VideoWriter_fourcc('m', 'p', '4', 'v'), \n",
    "                                    video_reader.get(cv2.CAP_PROP_FPS), (original_video_width, original_video_height))\n",
    " \n",
    "    # Declare a queue to store video frames.\n",
    "    frames_queue = deque(maxlen = SEQUENCE_LENGTH)\n",
    " \n",
    "    # Store the predicted class in the video.\n",
    "    predicted_class_name = ''\n",
    " \n",
    "    # Iterate until the video is accessed successfully.\n",
    "    while video_reader.isOpened():\n",
    " \n",
    "        ok, frame = video_reader.read() \n",
    "        \n",
    "        if not ok:\n",
    "            break\n",
    " \n",
    "        # Resize the Frame to fixed Dimensions.\n",
    "        resized_frame = cv2.resize(frame, (IMAGE_HEIGHT, IMAGE_WIDTH))\n",
    "        \n",
    "        # Normalize the resized frame \n",
    "        normalized_frame = resized_frame / 255\n",
    " \n",
    "        # Appending the pre-processed frame into the frames list.\n",
    "        frames_queue.append(normalized_frame)\n",
    " \n",
    "        # We Need at Least number of SEQUENCE_LENGTH Frames to perform a prediction.\n",
    "        # Check if the number of frames in the queue are equal to the fixed sequence length.\n",
    "        if len(frames_queue) == SEQUENCE_LENGTH:                        \n",
    " \n",
    "            # Pass the normalized frames to the model and get the predicted probabilities.\n",
    "            predicted_labels_probabilities = MoBiLSTM_model.predict(np.expand_dims(frames_queue, axis = 0))[0]\n",
    " \n",
    "            # Get the index of class with highest probability.\n",
    "            predicted_label = np.argmax(predicted_labels_probabilities)\n",
    " \n",
    "            # Get the class name using the retrieved index.\n",
    "            predicted_class_name = CLASSES_LIST[predicted_label]\n",
    " \n",
    "        # Write predicted class name on top of the frame.\n",
    "        if predicted_class_name == \"Violence\":\n",
    "            cv2.putText(frame, predicted_class_name, (5, 100), cv2.FONT_HERSHEY_SIMPLEX, 3, (0, 0, 255), 12)\n",
    "        else:\n",
    "            cv2.putText(frame, predicted_class_name, (5, 100), cv2.FONT_HERSHEY_SIMPLEX, 3, (0, 255, 0), 12)\n",
    "         \n",
    "        # Write The frame into the disk using the VideoWriter\n",
    "        video_writer.write(frame)                       \n",
    "        \n",
    "    video_reader.release()\n",
    "    video_writer.release()"
   ]
  },
  {
   "cell_type": "code",
   "execution_count": null,
   "metadata": {},
   "outputs": [],
   "source": [
    "plt.style.use(\"default\")\n",
    "\n",
    "# To show Random Frames from the saved output predicted video (output predicted video doesn't show on the notebook but can be downloaded)\n",
    "def show_pred_frames(pred_video_path): \n",
    "\n",
    "    plt.figure(figsize=(20,15))\n",
    "\n",
    "    video_reader = cv2.VideoCapture(pred_video_path)\n",
    "\n",
    "    # Get the number of frames in the video.\n",
    "    frames_count = int(video_reader.get(cv2.CAP_PROP_FRAME_COUNT))\n",
    "    \n",
    "    # Get Random Frames from the video then Sort it\n",
    "    random_range = sorted(random.sample(range (SEQUENCE_LENGTH , frames_count ), 12))\n",
    "        \n",
    "    for counter, random_index in enumerate(random_range, 1):\n",
    "        \n",
    "        plt.subplot(5, 4, counter)\n",
    "\n",
    "        # Set the current frame position of the video.  \n",
    "        video_reader.set(cv2.CAP_PROP_POS_FRAMES, random_index)\n",
    "          \n",
    "        ok, frame = video_reader.read() \n",
    "\n",
    "        if not ok:\n",
    "          break \n",
    "\n",
    "        frame = cv2.cvtColor(frame , cv2.COLOR_BGR2RGB)\n",
    "\n",
    "        plt.imshow(frame);ax.figure.set_size_inches(20,20);plt.tight_layout()\n",
    "                            \n",
    "    video_reader.release()"
   ]
  },
  {
   "cell_type": "code",
   "execution_count": null,
   "metadata": {},
   "outputs": [
    {
     "name": "stderr",
     "output_type": "stream",
     "text": [
      "c:\\Users\\ksree\\AppData\\Local\\Programs\\Python\\Python310\\lib\\site-packages\\keras\\src\\engine\\training.py:3103: UserWarning: You are saving your model as an HDF5 file via `model.save()`. This file format is considered legacy. We recommend using instead the native Keras format, e.g. `model.save('my_model.keras')`.\n",
      "  saving_api.save_model(\n"
     ]
    }
   ],
   "source": [
    "MoBiLSTM_model.save(\"MoBiLSTM_model.h5\")"
   ]
  },
  {
   "cell_type": "code",
   "execution_count": null,
   "metadata": {},
   "outputs": [],
   "source": [
    "# Construct the output video path.\n",
    "test_videos_directory = 'test_videos'\n",
    "os.makedirs(test_videos_directory, exist_ok = True)\n",
    " \n",
    "output_video_file_path = f'{test_videos_directory}/Output-Test-Video.mp4'"
   ]
  },
  {
   "cell_type": "code",
   "execution_count": null,
   "metadata": {},
   "outputs": [],
   "source": [
    "# Specifying video to be predicted\n",
    "input_video_file_path = \"istockphoto-1314577852-640_adpp_is.mp4\"\n",
    "\n",
    "# Perform Prediction on the Test Video.\n",
    "predict_frames(input_video_file_path, output_video_file_path, SEQUENCE_LENGTH)\n",
    "\n",
    "# Show random frames from the output video\n",
    "show_pred_frames(output_video_file_path)"
   ]
  },
  {
   "cell_type": "code",
   "execution_count": null,
   "metadata": {},
   "outputs": [],
   "source": [
    "def predict_video(video_file_path, SEQUENCE_LENGTH):\n",
    " \n",
    "    video_reader = cv2.VideoCapture(video_file_path)\n",
    " \n",
    "    # Get the width and height of the video.\n",
    "    original_video_width = int(video_reader.get(cv2.CAP_PROP_FRAME_WIDTH))\n",
    "    original_video_height = int(video_reader.get(cv2.CAP_PROP_FRAME_HEIGHT))\n",
    " \n",
    "    # Declare a list to store video frames we will extract.\n",
    "    frames_list = []\n",
    "    \n",
    "    # Store the predicted class in the video.\n",
    "    predicted_class_name = ''\n",
    " \n",
    "    # Get the number of frames in the video.\n",
    "    video_frames_count = int(video_reader.get(cv2.CAP_PROP_FRAME_COUNT))\n",
    " \n",
    "    # Calculate the interval after which frames will be added to the list.\n",
    "    skip_frames_window = max(int(video_frames_count/SEQUENCE_LENGTH),1)\n",
    " \n",
    "    # Iterating the number of times equal to the fixed length of sequence.\n",
    "    for frame_counter in range(SEQUENCE_LENGTH):\n",
    " \n",
    "        # Set the current frame position of the video.\n",
    "        video_reader.set(cv2.CAP_PROP_POS_FRAMES, frame_counter * skip_frames_window)\n",
    " \n",
    "        success, frame = video_reader.read() \n",
    " \n",
    "        if not success:\n",
    "            break\n",
    " \n",
    "        # Resize the Frame to fixed Dimensions.\n",
    "        resized_frame = cv2.resize(frame, (IMAGE_HEIGHT, IMAGE_WIDTH))\n",
    "        \n",
    "        # Normalize the resized frame.\n",
    "        normalized_frame = resized_frame / 255\n",
    "        \n",
    "        # Appending the pre-processed frame into the frames list\n",
    "        frames_list.append(normalized_frame)\n",
    " \n",
    "    # Passing the  pre-processed frames to the model and get the predicted probabilities.\n",
    "    predicted_labels_probabilities = MoBiLSTM_model.predict(np.expand_dims(frames_list, axis = 0))[0]\n",
    " \n",
    "    # Get the index of class with highest probability.\n",
    "    predicted_label = np.argmax(predicted_labels_probabilities)\n",
    " \n",
    "    # Get the class name using the retrieved index.\n",
    "    predicted_class_name = CLASSES_LIST[predicted_label]\n",
    "    \n",
    "    # Display the predicted class along with the prediction confidence.\n",
    "    print(f'Predicted: {predicted_class_name}\\nConfidence: {predicted_labels_probabilities[predicted_label]}')\n",
    "        \n",
    "    video_reader.release()"
   ]
  },
  {
   "cell_type": "code",
   "execution_count": null,
   "metadata": {},
   "outputs": [
    {
     "name": "stdout",
     "output_type": "stream",
     "text": [
      "1/1 [==============================] - 0s 63ms/step\n",
      "Predicted: NonViolence\n",
      "Confidence: 0.9759827852249146\n"
     ]
    }
   ],
   "source": [
    "import cv2\n",
    "\n",
    "# Function to play video using OpenCV\n",
    "def play_video(video_file_path):\n",
    "    video_reader = cv2.VideoCapture(video_file_path)\n",
    "\n",
    "    while True:\n",
    "        ret, frame = video_reader.read()\n",
    "        if not ret:\n",
    "            break\n",
    "\n",
    "        # Display the frame\n",
    "        cv2.imshow('Video', frame)\n",
    "\n",
    "        # Check for 'q' key to quit\n",
    "        if cv2.waitKey(1) & 0xFF == ord('q'):\n",
    "            break\n",
    "\n",
    "    # Release video reader and close OpenCV windows\n",
    "    video_reader.release()\n",
    "    cv2.destroyAllWindows()\n",
    "\n",
    "# Specifying video to be predicted\n",
    "input_video_file_path = \"WIN_20240401_15_44_51_Pro.mp4\"\n",
    "\n",
    "# Perform Single Prediction on the Test Video.\n",
    "predict_video(input_video_file_path, SEQUENCE_LENGTH)\n",
    "\n",
    "# Play the actual video\n",
    "play_video(input_video_file_path)\n"
   ]
  },
  {
   "cell_type": "code",
   "execution_count": 16,
   "metadata": {},
   "outputs": [
    {
     "ename": "NameError",
     "evalue": "name 'labels_test_normal' is not defined",
     "output_type": "error",
     "traceback": [
      "\u001b[1;31m---------------------------------------------------------------------------\u001b[0m",
      "\u001b[1;31mNameError\u001b[0m                                 Traceback (most recent call last)",
      "Cell \u001b[1;32mIn[16], line 6\u001b[0m\n\u001b[0;32m      3\u001b[0m \u001b[38;5;28;01mimport\u001b[39;00m \u001b[38;5;21;01mmatplotlib\u001b[39;00m\u001b[38;5;21;01m.\u001b[39;00m\u001b[38;5;21;01mpyplot\u001b[39;00m \u001b[38;5;28;01mas\u001b[39;00m \u001b[38;5;21;01mplt\u001b[39;00m\n\u001b[0;32m      5\u001b[0m ax\u001b[38;5;241m=\u001b[39m plt\u001b[38;5;241m.\u001b[39msubplot()\n\u001b[1;32m----> 6\u001b[0m cm\u001b[38;5;241m=\u001b[39mconfusion_matrix(\u001b[43mlabels_test_normal\u001b[49m, labels_predict)\n\u001b[0;32m      7\u001b[0m sns\u001b[38;5;241m.\u001b[39mheatmap(cm, annot\u001b[38;5;241m=\u001b[39m\u001b[38;5;28;01mTrue\u001b[39;00m, fmt\u001b[38;5;241m=\u001b[39m\u001b[38;5;124m'\u001b[39m\u001b[38;5;124mg\u001b[39m\u001b[38;5;124m'\u001b[39m, ax\u001b[38;5;241m=\u001b[39max);  \n\u001b[0;32m      9\u001b[0m ax\u001b[38;5;241m.\u001b[39mset_xlabel(\u001b[38;5;124m'\u001b[39m\u001b[38;5;124mPredicted labels\u001b[39m\u001b[38;5;124m'\u001b[39m);ax\u001b[38;5;241m.\u001b[39mset_ylabel(\u001b[38;5;124m'\u001b[39m\u001b[38;5;124mTrue labels\u001b[39m\u001b[38;5;124m'\u001b[39m); \n",
      "\u001b[1;31mNameError\u001b[0m: name 'labels_test_normal' is not defined"
     ]
    },
    {
     "data": {
      "image/png": "[encoded data removed]",
      "text/plain": [
       "<Figure size 640x480 with 1 Axes>"
      ]
     },
     "metadata": {},
     "output_type": "display_data"
    }
   ],
   "source": [
    "import seaborn as sns \n",
    "from sklearn.metrics import confusion_matrix\n",
    "import matplotlib.pyplot as plt\n",
    "\n",
    "ax= plt.subplot()\n",
    "cm=confusion_matrix(labels_test_normal, labels_predict)\n",
    "sns.heatmap(cm, annot=True, fmt='g', ax=ax);  \n",
    "\n",
    "ax.set_xlabel('Predicted labels');ax.set_ylabel('True labels'); \n",
    "ax.set_title('Confusion Matrix'); \n",
    "ax.xaxis.set_ticklabels(['NonViolence', 'Violence']); ax.yaxis.set_ticklabels(['NonViolence', 'Violence']);"
   ]
  },
  {
   "cell_type": "code",
   "execution_count": 20,
   "metadata": {},
   "outputs": [
    {
     "ename": "NameError",
     "evalue": "name 'model' is not defined",
     "output_type": "error",
     "traceback": [
      "\u001b[1;31m---------------------------------------------------------------------------\u001b[0m",
      "\u001b[1;31mNameError\u001b[0m                                 Traceback (most recent call last)",
      "Cell \u001b[1;32mIn[20], line 7\u001b[0m\n\u001b[0;32m      4\u001b[0m \u001b[38;5;28;01mimport\u001b[39;00m \u001b[38;5;21;01mseaborn\u001b[39;00m \u001b[38;5;28;01mas\u001b[39;00m \u001b[38;5;21;01msns\u001b[39;00m\n\u001b[0;32m      6\u001b[0m \u001b[38;5;66;03m# Predict labels for the test set\u001b[39;00m\n\u001b[1;32m----> 7\u001b[0m labels_predict \u001b[38;5;241m=\u001b[39m \u001b[43mmodel\u001b[49m\u001b[38;5;241m.\u001b[39mpredict(features_test)\n\u001b[0;32m      8\u001b[0m labels_predict \u001b[38;5;241m=\u001b[39m np\u001b[38;5;241m.\u001b[39margmax(labels_predict, axis\u001b[38;5;241m=\u001b[39m\u001b[38;5;241m1\u001b[39m)\n\u001b[0;32m     10\u001b[0m \u001b[38;5;66;03m# Get the true labels from one-hot-encoded format\u001b[39;00m\n",
      "\u001b[1;31mNameError\u001b[0m: name 'model' is not defined"
     ]
    }
   ],
   "source": [
    "import numpy as np\n",
    "from sklearn.metrics import confusion_matrix\n",
    "import matplotlib.pyplot as plt\n",
    "import seaborn as sns\n",
    "\n",
    "# Predict labels for the test set\n",
    "labels_predict = model.predict(features_test)\n",
    "labels_predict = np.argmax(labels_predict, axis=1)\n",
    "\n",
    "# Get the true labels from one-hot-encoded format\n",
    "labels_test_normal = np.argmax(labels_test, axis=1)\n",
    "\n",
    "# Compute confusion matrix\n",
    "conf_matrix = confusion_matrix(labels_test_normal, labels_predict)\n",
    "\n",
    "# Plot confusion matrix\n",
    "plt.figure(figsize=(8, 6))\n",
    "sns.heatmap(conf_matrix, annot=True, fmt='g', cmap='Blues', \n",
    "            xticklabels=CLASSES_LIST, yticklabels=CLASSES_LIST)\n",
    "plt.xlabel('Predicted labels')\n",
    "plt.ylabel('True labels')\n",
    "plt.title('Confusion Matrix')\n",
    "plt.show()\n"
   ]
  }
 ],
 "metadata": {
  "kernelspec": {
   "display_name": "Python 3",
   "language": "python",
   "name": "python3"
  },
  "language_info": {
   "codemirror_mode": {
    "name": "ipython",
    "version": 3
   },
   "file_extension": ".py",
   "mimetype": "text/x-python",
   "name": "python",
   "nbconvert_exporter": "python",
   "pygments_lexer": "ipython3",
   "version": "3.10.0"
  }
 },
 "nbformat": 4,
 "nbformat_minor": 2
}
